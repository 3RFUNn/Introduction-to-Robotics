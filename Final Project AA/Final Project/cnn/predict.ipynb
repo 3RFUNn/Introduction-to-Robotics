{
 "cells": [
  {
   "cell_type": "code",
   "execution_count": 31,
   "metadata": {},
   "outputs": [],
   "source": [
    "import keras\n",
    "import cv2\n",
    "import numpy as np\n",
    "import matplotlib.pyplot as plt"
   ]
  },
  {
   "cell_type": "code",
   "execution_count": 32,
   "metadata": {},
   "outputs": [],
   "source": [
    "model = keras.models.load_model('../model/location.keras')"
   ]
  },
  {
   "cell_type": "code",
   "execution_count": 33,
   "metadata": {},
   "outputs": [],
   "source": [
    "def predict(sample_images):\n",
    "    # Predict labels\n",
    "    predicted = model.predict(sample_images)\n",
    "    predicted_labels = np.argmax(predicted, axis=1)\n",
    "\n",
    "    class_dict = {0:'T-shirt',1:'pants',2:'pullover',3:'shoes',4:'Bag'}\n",
    "    # Display images and predictions\n",
    "    fig, axes = plt.subplots(1, len(sample_images), figsize=(20, 2))\n",
    "    for i, ax in enumerate(axes):\n",
    "        ax.imshow(sample_images[i].reshape(28, 28), cmap='gray')\n",
    "        ax.set_title(f'{class_dict.get(predicted_labels[i])}')\n",
    "        ax.axis('off')\n",
    "    plt.show()"
   ]
  },
  {
   "cell_type": "code",
   "execution_count": 34,
   "metadata": {},
   "outputs": [],
   "source": [
    "def resize_image(image, new_size):\n",
    "    height, width = image.shape[:2]\n",
    "\n",
    "    scale_x = new_size[0] / width\n",
    "    scale_y = new_size[1] / height\n",
    "\n",
    "    scale = min(scale_x, scale_y)\n",
    "\n",
    "    new_width = int(width * scale)\n",
    "    new_height = int(height * scale)\n",
    "\n",
    "    resized_image = cv2.resize(image, (new_width, new_height))\n",
    "\n",
    "    final_image = np.zeros((new_size[1], new_size[0]), dtype=np.uint8)\n",
    "\n",
    "    x = (new_size[0] - new_width) // 2\n",
    "    y = (new_size[1] - new_height) // 2\n",
    "\n",
    "    final_image[y:y+new_height, x:x+new_width] = resized_image\n",
    "\n",
    "    return final_image\n"
   ]
  },
  {
   "cell_type": "code",
   "execution_count": 35,
   "metadata": {},
   "outputs": [],
   "source": [
    "n = 5\n",
    "sample_images = []\n",
    "rows_up = [0, 63, 125, 20, 80, 72]\n",
    "rows_down = [0, 44, 0, 90, 30, 36]\n",
    "columns_up = [0, 150, 160, 235, 145, 105]\n",
    "columns_down = [0, 118, 110, 35, 125, 165]\n",
    "\n",
    "for i in range(1, n + 1):\n",
    "    im_gray = cv2.imread(f'../datasets/box{i}/output_image{i}-1.jpg', cv2.IMREAD_GRAYSCALE)\n",
    "    cv2.imwrite(f'../datasets/box{i}/output_image{i}-1_gray_scale.jpg', im_gray)\n",
    "    \n",
    "    height, width = im_gray.shape\n",
    "    im_gray_crop = im_gray[rows_up[i]:height - rows_down[i], columns_up[i]:width - columns_down[i]]\n",
    "    cv2.imwrite(f'../datasets/box{i}/output_image{i}-1_gray_scale_crop.jpg', im_gray_crop)\n",
    "\n",
    "    im_gray_crop_resize = resize_image(im_gray_crop, (28, 28))\n",
    "    cv2.imwrite(f'../datasets/box{i}/output_image{i}-1_gray_scale_crop_resize.jpg', im_gray_crop_resize)\n",
    "    \n",
    "    sample_images.append(im_gray_crop_resize)"
   ]
  },
  {
   "cell_type": "code",
   "execution_count": 36,
   "metadata": {},
   "outputs": [
    {
     "name": "stdout",
     "output_type": "stream",
     "text": [
      "1/1 [==============================] - 0s 176ms/step\n"
     ]
    },
    {
     "data": {
      "image/png": "[encoded data removed]",
      "text/plain": [
       "<Figure size 2000x200 with 5 Axes>"
      ]
     },
     "metadata": {},
     "output_type": "display_data"
    }
   ],
   "source": [
    "predict(np.array(sample_images))"
   ]
  },
  {
   "cell_type": "code",
   "execution_count": null,
   "metadata": {},
   "outputs": [],
   "source": []
  }
 ],
 "metadata": {
  "kernelspec": {
   "display_name": "Python 3",
   "language": "python",
   "name": "python3"
  },
  "language_info": {
   "codemirror_mode": {
    "name": "ipython",
    "version": 3
   },
   "file_extension": ".py",
   "mimetype": "text/x-python",
   "name": "python",
   "nbconvert_exporter": "python",
   "pygments_lexer": "ipython3",
   "version": "3.10.9"
  }
 },
 "nbformat": 4,
 "nbformat_minor": 2
}
